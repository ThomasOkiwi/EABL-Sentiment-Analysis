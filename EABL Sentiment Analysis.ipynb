{
 "cells": [
  {
   "cell_type": "markdown",
   "metadata": {},
   "source": [
    "# Data-Driven Brand Mastery: EABL's Social Analytics\n",
    "\n",
    "\n",
    "## Business Overview\n",
    "media for brand monitoring to enhance brand perception and customer engagement.\n",
    "East African Breweries Limited (EABL) is a leading Fast-Moving Consumer Goods (FMCG) company operating in the beverage industry.\n",
    "EABL's market footprint extends across East Africa, with a significant presence in countries such as Kenya, Uganda, Tanzania, Rwanda, and South Sudan.\n",
    "With a diverse portfolio of brands such as Tusker Lager, Pilsner Lager, WhiteCap Lager,  Johnnie Walker, Smirnoff, Gilbey's Gin, Richot Brandy, Bond 7 Whiskey and Baileys Irish Cream.\n",
    "As part of its strategic approach, EABL is keen on leveraging social \n",
    "\n",
    "##  Problem Statement\n",
    "EABL recognizes the need to closely monitor and understand the sentiments expressed on social media platforms regarding its brands, products, and marketing initiatives. The company aims to address the following challenges:\n",
    "\n",
    "#### 1. Brand Perception and Engagement: \n",
    "\n",
    "The current state of public sentiment towards EABL on social media is not well-understood, and the company lacks insights to proactively manage and improve its brand perception.\n",
    "\n",
    "#### 2. Marketing Campaign Effectiveness: \n",
    "\n",
    "EABL needs to evaluate the impact of its marketing campaigns and promotions on social media to optimize strategies and refine future campaigns.\n",
    "\n",
    "#### 3. Customer Feedback Analysis: \n",
    "\n",
    "There is a lack of systematic analysis of customer feedback related to product quality, packaging, pricing, and overall satisfaction. EABL aims to utilize this feedback for continuous product improvement and innovation.\n",
    "\n",
    "## Objectives\n",
    "\n",
    "### Main Objectives\n",
    "\n",
    "#### Enhance Brand Perception and Customer Engagement:\n",
    "\n",
    "The main objective of our project is to monitor and analyze social media conversations to understand public sentiment towards EABL brands.\n",
    "Identifying areas for improvement and take proactive measures to enhance overall brand perception.\n",
    "\n",
    "### Specific Objectives\n",
    "\n",
    "#### Brand Sentiment Analysis:\n",
    "\n",
    "Analyze sentiments expressed by consumers regarding EABL products, marketing campaigns, and brand image.\n",
    "\n",
    "Categorize sentiments as positive, negative, or neutral to derive actionable insights.\n",
    "\n",
    "#### Campaign Effectiveness:\n",
    "\n",
    "Evaluate the effectiveness of marketing campaigns and promotions through public reactions on social media.\n",
    "\n",
    "Measure key performance indicators (KPIs) such as engagement rates, reach, and sentiment shift during and after campaigns.\n",
    "\n",
    "#### Customer Feedback Analysis:\n",
    "\n",
    "Capture and analyze customer feedback on specific EABL products.\n",
    "\n",
    "Extract insights on taste, packaging, pricing, and overall satisfaction to guide product development and enhancement.\n",
    "\n",
    "######  Success Criteria\n",
    "\n",
    "The success of this project will be measured by:\n",
    "\n",
    "1. A notable improvement in overall brand sentiment scores over a defined period.\n",
    "\n",
    "2. Positive shifts in sentiment during and after key marketing campaigns.\n",
    "\n",
    "3. Tangible product improvements based on customer feedback.\n",
    "\n",
    "4. Enhanced online visibility and engagement compared to competitors.\n",
    "\n",
    "Stakeholders\n",
    "Marketing Team:\n",
    "\n",
    "Benefit from insights to optimize marketing strategies and refine campaigns.\n",
    "Product Development Team:\n",
    "\n",
    "Utilize feedback for continuous product improvement and innovation.\n",
    "Executive Leadership:\n",
    "\n",
    "Receive regular reports on brand health and public perception for strategic decision-making. Objectives\n",
    "\n",
    "\n",
    "## Stakeholders\n",
    "\n",
    "#### 1. Marketing Team:\n",
    "\n",
    "Benefit from insights to optimize marketing strategies and refine campaigns.\n",
    "\n",
    "#### 2. Product Development Team:\n",
    "\n",
    "Utilize feedback for continuous product improvement and innovation.\n",
    "\n",
    "#### 3. Executive Leadership:\n",
    "\n",
    "Receive regular reports on brand health and public perception for strategic decision-making. "
   ]
  },
  {
   "cell_type": "markdown",
   "metadata": {},
   "source": [
    "# Importing Libraries "
   ]
  },
  {
   "cell_type": "code",
   "execution_count": 4,
   "metadata": {},
   "outputs": [
    {
     "name": "stderr",
     "output_type": "stream",
     "text": [
      "[nltk_data] Downloading package stopwords to C:\\Users\\thomas.okiwi.TEC\n",
      "[nltk_data]     HNOBRAINBPO\\AppData\\Roaming\\nltk_data...\n",
      "[nltk_data]   Package stopwords is already up-to-date!\n",
      "[nltk_data] Downloading package punkt to C:\\Users\\thomas.okiwi.TECHNOB\n",
      "[nltk_data]     RAINBPO\\AppData\\Roaming\\nltk_data...\n",
      "[nltk_data]   Package punkt is already up-to-date!\n",
      "[nltk_data] Downloading package wordnet to C:\\Users\\thomas.okiwi.TECHN\n",
      "[nltk_data]     OBRAINBPO\\AppData\\Roaming\\nltk_data...\n",
      "[nltk_data]   Package wordnet is already up-to-date!\n"
     ]
    },
    {
     "data": {
      "text/plain": [
       "True"
      ]
     },
     "execution_count": 4,
     "metadata": {},
     "output_type": "execute_result"
    }
   ],
   "source": [
    "import nltk\n",
    "import pandas as pd\n",
    "import numpy as np\n",
    "import seaborn as sns\n",
    "import matplotlib.pyplot as plt\n",
    "\n",
    "from sklearn. feature_extraction. text import CountVectorizer\n",
    "from sklearn.feature_extraction.text import TfidfVectorizer\n",
    "from sklearn. feature_extraction. text import TfidfTransformer\n",
    "\n",
    "from nltk.probability import FreqDist\n",
    "from nltk.corpus import stopwords\n",
    "from nltk.stem import PorterStemmer\n",
    "from sklearn.metrics import confusion_matrix\n",
    "\n",
    "from sklearn. naive_bayes import MultinomialNB\n",
    "from sklearn import metrics\n",
    "from sklearn.model_selection import train_test_split \n",
    "from matplotlib import cm\n",
    "\n",
    "from sklearn.ensemble import RandomForestClassifier\n",
    "from sklearn. metrics import classification_report\n",
    "# from sklearn.metrics import plot_confusion_matrix\n",
    "\n",
    "\n",
    "nltk.download('stopwords')\n",
    "nltk.download ('punkt')\n",
    "nltk.download('wordnet')\n"
   ]
  },
  {
   "cell_type": "markdown",
   "metadata": {},
   "source": [
    "### Reading EABL Twitter Data"
   ]
  },
  {
   "cell_type": "code",
   "execution_count": 9,
   "metadata": {},
   "outputs": [
    {
     "name": "stderr",
     "output_type": "stream",
     "text": [
      "Testing instances: 100%|██████████| 30/30 [00:54<00:00,  1.81s/it]\n"
     ]
    }
   ],
   "source": [
    "from ntscraper import Nitter\n",
    "scraper=Nitter()"
   ]
  },
  {
   "cell_type": "code",
   "execution_count": 7,
   "metadata": {},
   "outputs": [
    {
     "name": "stdout",
     "output_type": "stream",
     "text": [
      "02-Jan-24 17:17:52 - No instance specified, using random instance https://nitter.manasiwibi.com\n",
      "02-Jan-24 17:18:00 - Current stats for ShushoChristina: 5 tweets, 0 threads...\n"
     ]
    }
   ],
   "source": [
    "tweets= scraper.get_tweets('ShushoChristina', mode='user',number=5)"
   ]
  },
  {
   "cell_type": "code",
   "execution_count": 10,
   "metadata": {},
   "outputs": [],
   "source": [
    "def get__tweets(name , modes, no):\n",
    "  tweets= scraper.get_tweets( name , mode= modes ,number= no)\n",
    "  final_tweet=[]\n",
    "  for tweet in tweets['tweets']:\n",
    "\n",
    "    data= tweet['link'],tweet['text'],tweet['date'],tweet['stats']\n",
    "    final_tweet.append(data)\n",
    "\n",
    "  data = pd.DataFrame(final_tweet, columns=['data','text','stats','links'])\n",
    "  return data"
   ]
  },
  {
   "cell_type": "code",
   "execution_count": 11,
   "metadata": {},
   "outputs": [
    {
     "name": "stdout",
     "output_type": "stream",
     "text": [
      "02-Jan-24 17:21:40 - No instance specified, using random instance https://nitter.mint.lgbt\n",
      "02-Jan-24 17:21:47 - Current stats for EABL: 17 tweets, 0 threads...\n",
      "02-Jan-24 17:21:52 - Current stats for EABL: 37 tweets, 0 threads...\n",
      "02-Jan-24 17:21:57 - Current stats for EABL: 54 tweets, 0 threads...\n",
      "02-Jan-24 17:22:01 - Current stats for EABL: 71 tweets, 0 threads...\n",
      "02-Jan-24 17:22:06 - Current stats for EABL: 88 tweets, 0 threads...\n",
      "02-Jan-24 17:22:10 - Current stats for EABL: 108 tweets, 0 threads...\n",
      "02-Jan-24 17:22:15 - Current stats for EABL: 125 tweets, 0 threads...\n",
      "02-Jan-24 17:22:19 - Current stats for EABL: 143 tweets, 0 threads...\n",
      "02-Jan-24 17:22:24 - Current stats for EABL: 160 tweets, 0 threads...\n",
      "02-Jan-24 17:22:28 - Current stats for EABL: 175 tweets, 0 threads...\n",
      "02-Jan-24 17:22:33 - Current stats for EABL: 190 tweets, 0 threads...\n",
      "02-Jan-24 17:22:37 - Current stats for EABL: 203 tweets, 0 threads...\n",
      "02-Jan-24 17:22:42 - Current stats for EABL: 217 tweets, 0 threads...\n",
      "02-Jan-24 17:22:46 - Current stats for EABL: 233 tweets, 0 threads...\n",
      "02-Jan-24 17:22:50 - Current stats for EABL: 247 tweets, 0 threads...\n",
      "02-Jan-24 17:22:55 - Current stats for EABL: 263 tweets, 0 threads...\n",
      "02-Jan-24 17:22:59 - Current stats for EABL: 265 tweets, 0 threads...\n",
      "02-Jan-24 17:23:03 - Current stats for EABL: 269 tweets, 0 threads...\n",
      "02-Jan-24 17:23:07 - Current stats for EABL: 272 tweets, 0 threads...\n",
      "02-Jan-24 17:23:12 - Current stats for EABL: 275 tweets, 0 threads...\n",
      "02-Jan-24 17:23:16 - Current stats for EABL: 280 tweets, 0 threads...\n",
      "02-Jan-24 17:23:21 - Current stats for EABL: 293 tweets, 0 threads...\n",
      "02-Jan-24 17:23:25 - Current stats for EABL: 303 tweets, 0 threads...\n",
      "02-Jan-24 17:23:30 - Current stats for EABL: 311 tweets, 0 threads...\n",
      "02-Jan-24 17:23:34 - Current stats for EABL: 328 tweets, 0 threads...\n",
      "02-Jan-24 17:23:39 - Current stats for EABL: 345 tweets, 0 threads...\n",
      "02-Jan-24 17:23:44 - Current stats for EABL: 364 tweets, 0 threads...\n",
      "02-Jan-24 17:23:48 - Current stats for EABL: 371 tweets, 0 threads...\n",
      "02-Jan-24 17:23:52 - Current stats for EABL: 377 tweets, 0 threads...\n",
      "02-Jan-24 17:23:57 - Current stats for EABL: 388 tweets, 0 threads...\n",
      "02-Jan-24 17:24:02 - Current stats for EABL: 404 tweets, 0 threads...\n",
      "02-Jan-24 17:24:07 - Current stats for EABL: 418 tweets, 0 threads...\n",
      "02-Jan-24 17:24:12 - Current stats for EABL: 422 tweets, 0 threads...\n",
      "02-Jan-24 17:24:16 - Current stats for EABL: 432 tweets, 0 threads...\n",
      "02-Jan-24 17:24:21 - Current stats for EABL: 447 tweets, 0 threads...\n",
      "02-Jan-24 17:24:25 - Current stats for EABL: 466 tweets, 0 threads...\n",
      "02-Jan-24 17:24:30 - Current stats for EABL: 476 tweets, 0 threads...\n",
      "02-Jan-24 17:24:34 - Current stats for EABL: 489 tweets, 0 threads...\n",
      "02-Jan-24 17:24:38 - Current stats for EABL: 506 tweets, 0 threads...\n",
      "02-Jan-24 17:24:42 - Current stats for EABL: 521 tweets, 0 threads...\n",
      "02-Jan-24 17:24:47 - Current stats for EABL: 539 tweets, 0 threads...\n",
      "02-Jan-24 17:24:52 - Current stats for EABL: 556 tweets, 0 threads...\n",
      "02-Jan-24 17:24:58 - Current stats for EABL: 571 tweets, 0 threads...\n",
      "02-Jan-24 17:25:02 - Current stats for EABL: 586 tweets, 0 threads...\n",
      "02-Jan-24 17:25:07 - Current stats for EABL: 605 tweets, 0 threads...\n",
      "02-Jan-24 17:25:11 - Current stats for EABL: 622 tweets, 0 threads...\n",
      "02-Jan-24 17:25:16 - Current stats for EABL: 639 tweets, 0 threads...\n",
      "02-Jan-24 17:25:20 - Current stats for EABL: 657 tweets, 0 threads...\n",
      "02-Jan-24 17:25:25 - Current stats for EABL: 669 tweets, 0 threads...\n",
      "02-Jan-24 17:25:29 - Current stats for EABL: 682 tweets, 0 threads...\n",
      "02-Jan-24 17:25:34 - Current stats for EABL: 700 tweets, 0 threads...\n",
      "02-Jan-24 17:25:38 - Current stats for EABL: 715 tweets, 0 threads...\n",
      "02-Jan-24 17:25:44 - Current stats for EABL: 733 tweets, 0 threads...\n",
      "02-Jan-24 17:25:50 - Current stats for EABL: 748 tweets, 0 threads...\n",
      "02-Jan-24 17:25:55 - Current stats for EABL: 761 tweets, 0 threads...\n",
      "02-Jan-24 17:26:00 - Current stats for EABL: 779 tweets, 0 threads...\n",
      "02-Jan-24 17:26:05 - Current stats for EABL: 798 tweets, 0 threads...\n",
      "02-Jan-24 17:26:10 - Current stats for EABL: 818 tweets, 0 threads...\n",
      "02-Jan-24 17:26:15 - Current stats for EABL: 837 tweets, 0 threads...\n",
      "02-Jan-24 17:26:19 - Current stats for EABL: 853 tweets, 0 threads...\n",
      "02-Jan-24 17:26:24 - Current stats for EABL: 871 tweets, 0 threads...\n",
      "02-Jan-24 17:26:28 - Current stats for EABL: 889 tweets, 0 threads...\n",
      "02-Jan-24 17:26:32 - Current stats for EABL: 903 tweets, 0 threads...\n",
      "02-Jan-24 17:26:37 - Current stats for EABL: 920 tweets, 0 threads...\n",
      "02-Jan-24 17:26:42 - Current stats for EABL: 936 tweets, 0 threads...\n",
      "02-Jan-24 17:26:46 - Current stats for EABL: 954 tweets, 0 threads...\n",
      "02-Jan-24 17:26:51 - Current stats for EABL: 974 tweets, 0 threads...\n",
      "02-Jan-24 17:26:58 - Current stats for EABL: 991 tweets, 0 threads...\n",
      "02-Jan-24 17:27:02 - Current stats for EABL: 1008 tweets, 0 threads...\n",
      "02-Jan-24 17:27:07 - Current stats for EABL: 1027 tweets, 0 threads...\n",
      "02-Jan-24 17:27:11 - Current stats for EABL: 1047 tweets, 0 threads...\n",
      "02-Jan-24 17:27:15 - Current stats for EABL: 1066 tweets, 0 threads...\n",
      "02-Jan-24 17:27:20 - Current stats for EABL: 1085 tweets, 0 threads...\n",
      "02-Jan-24 17:27:26 - Current stats for EABL: 1102 tweets, 0 threads...\n",
      "02-Jan-24 17:27:30 - Current stats for EABL: 1120 tweets, 0 threads...\n",
      "02-Jan-24 17:27:34 - Current stats for EABL: 1139 tweets, 0 threads...\n",
      "02-Jan-24 17:27:39 - Current stats for EABL: 1157 tweets, 0 threads...\n",
      "02-Jan-24 17:27:43 - Current stats for EABL: 1162 tweets, 0 threads...\n",
      "02-Jan-24 17:27:46 - Empty page on https://nitter.mint.lgbt\n"
     ]
    }
   ],
   "source": [
    "df= get__tweets('EABL' , 'hashtag', 5000)"
   ]
  },
  {
   "cell_type": "code",
   "execution_count": 14,
   "metadata": {},
   "outputs": [],
   "source": [
    "df.to_csv('EABL tweeter data')"
   ]
  },
  {
   "cell_type": "code",
   "execution_count": null,
   "metadata": {},
   "outputs": [],
   "source": []
  },
  {
   "cell_type": "markdown",
   "metadata": {},
   "source": [
    "## Data Understanding\n",
    "\n",
    "#### 1. Brand Mentions:\n",
    "\n",
    "Social media posts, comments, and mentions related to EABL and its brands.\n",
    "\n",
    "Data sources: Twitter, Facebook, Instagram (Likes, shares, comments, EABL relevant hashtags.)\n",
    "\n",
    "\n",
    "#### Product Feedback:\n",
    "\n",
    "Comments and discussions regarding specific EABL products.\n",
    "\n",
    "#### Data sources: \n",
    "\n",
    "Social media platforms, review sites, online forums.\n",
    "\n",
    "Data on taste, packaging, pricing, and overall satisfaction.\n",
    "\n",
    "#### Campaign Reactions:\n",
    "\n",
    "Public reactions to EABL's marketing campaigns and promotions.\n",
    "\n",
    "Data sources: Social media platforms.\n",
    "\n",
    "#### Event Participation:\n",
    "\n",
    "Social media mentions related to EABL-sponsored events and promotions.\n",
    "\n",
    "#### Customer Service Interactions:\n",
    "\n",
    "Social media interactions with EABL's official customer service handles."
   ]
  },
  {
   "cell_type": "markdown",
   "metadata": {},
   "source": [
    "Please ensure that the document you submit adheres to the Crisp DM methodology. The Business Understanding section should include a comprehensive business overview, a clear problem statement, main objectives, and specific objectives that are precise and to the point (have at least 3 specific objectives). Additionally, include success criteria for your project.\n",
    "\n",
    "For the Data Understanding section, provide a thorough explanation of the dataset you plan to work on. Be as detailed as possible in all aspects of your pitch.\n",
    "\n",
    "We look forward to receiving your project pitches."
   ]
  }
 ],
 "metadata": {
  "kernelspec": {
   "display_name": "Python (learn-env)",
   "language": "python",
   "name": "learn-env"
  },
  "language_info": {
   "codemirror_mode": {
    "name": "ipython",
    "version": 3
   },
   "file_extension": ".py",
   "mimetype": "text/x-python",
   "name": "python",
   "nbconvert_exporter": "python",
   "pygments_lexer": "ipython3",
   "version": "3.8.5"
  }
 },
 "nbformat": 4,
 "nbformat_minor": 4
}
